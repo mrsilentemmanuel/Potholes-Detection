{
 "cells": [
  {
   "cell_type": "code",
   "execution_count": 1,
   "metadata": {},
   "outputs": [],
   "source": [
    "import pandas as pd\n",
    "import numpy as np\n",
    "\n",
    "from pandas import Series, DataFrame"
   ]
  },
  {
   "cell_type": "code",
   "execution_count": 3,
   "metadata": {},
   "outputs": [],
   "source": [
    "train = pd.read_csv(\"C:/Users/Silent/Desktop/Stuff/Work Projects/Data Science Projects/Running/Wazihub Soil Moisture Prediction Challenge/train.csv\")\n",
    "#maize = pd.read_csv(\"C:/Users/Silent/Desktop/Data Science Projects/Running/Wazihub Soil Moisture Prediction Challenge/Context_Data_Maize.csv\")\n",
    "#peanut =pd.read_csv(\"C:/Users/Silent/Desktop/Data Science Projects/Running/Wazihub Soil Moisture Prediction Challenge/Context_Data_Peanuts.csv\")\n",
    "#submission = pd.read_csv(\"C:/Users/Silent/Desktop/Data Science Projects/Running/Wazihub Soil Moisture Prediction Challenge/SampleSubmission.csv\")\n",
    "#vardef = pd.read_csv(\"C:/Users/Silent/Desktop/Data Science Projects/Running/Wazihub Soil Moisture Prediction Challenge/VariableDefinitions.csv\")"
   ]
  },
  {
   "cell_type": "code",
   "execution_count": 10,
   "metadata": {},
   "outputs": [
    {
     "data": {
      "text/html": [
       "<div>\n",
       "<style scoped>\n",
       "    .dataframe tbody tr th:only-of-type {\n",
       "        vertical-align: middle;\n",
       "    }\n",
       "\n",
       "    .dataframe tbody tr th {\n",
       "        vertical-align: top;\n",
       "    }\n",
       "\n",
       "    .dataframe thead th {\n",
       "        text-align: right;\n",
       "    }\n",
       "</style>\n",
       "<table border=\"1\" class=\"dataframe\">\n",
       "  <thead>\n",
       "    <tr style=\"text-align: right;\">\n",
       "      <th></th>\n",
       "      <th>timestamp</th>\n",
       "      <th>Soil humidity 1</th>\n",
       "      <th>Irrigation field 1</th>\n",
       "      <th>Soil humidity 2</th>\n",
       "      <th>Irrigation field 2</th>\n",
       "      <th>Soil humidity 3</th>\n",
       "      <th>Irrigation field 3</th>\n",
       "      <th>Soil humidity 4</th>\n",
       "      <th>Irrigation field 4</th>\n",
       "      <th>Air temperature (C)</th>\n",
       "      <th>Air humidity (%)</th>\n",
       "      <th>Pressure (KPa)</th>\n",
       "      <th>Wind speed (Km/h)</th>\n",
       "      <th>Wind gust (Km/h)</th>\n",
       "      <th>Wind direction (Deg)</th>\n",
       "    </tr>\n",
       "  </thead>\n",
       "  <tbody>\n",
       "    <tr>\n",
       "      <th>0</th>\n",
       "      <td>2019-02-23 00:00:00</td>\n",
       "      <td>67.92</td>\n",
       "      <td>0.0</td>\n",
       "      <td>55.72</td>\n",
       "      <td>0.0</td>\n",
       "      <td>-1.56</td>\n",
       "      <td>1.0</td>\n",
       "      <td>26.57</td>\n",
       "      <td>1.0</td>\n",
       "      <td>19.52</td>\n",
       "      <td>55.04</td>\n",
       "      <td>101.50</td>\n",
       "      <td>2.13</td>\n",
       "      <td>6.30</td>\n",
       "      <td>225.00</td>\n",
       "    </tr>\n",
       "    <tr>\n",
       "      <th>1</th>\n",
       "      <td>2019-02-23 00:05:00</td>\n",
       "      <td>67.89</td>\n",
       "      <td>0.0</td>\n",
       "      <td>55.74</td>\n",
       "      <td>0.0</td>\n",
       "      <td>-1.51</td>\n",
       "      <td>1.0</td>\n",
       "      <td>26.58</td>\n",
       "      <td>1.0</td>\n",
       "      <td>19.49</td>\n",
       "      <td>55.17</td>\n",
       "      <td>101.50</td>\n",
       "      <td>2.01</td>\n",
       "      <td>10.46</td>\n",
       "      <td>123.75</td>\n",
       "    </tr>\n",
       "    <tr>\n",
       "      <th>2</th>\n",
       "      <td>2019-02-23 00:10:00</td>\n",
       "      <td>67.86</td>\n",
       "      <td>0.0</td>\n",
       "      <td>55.77</td>\n",
       "      <td>0.0</td>\n",
       "      <td>-1.47</td>\n",
       "      <td>1.0</td>\n",
       "      <td>26.59</td>\n",
       "      <td>1.0</td>\n",
       "      <td>19.47</td>\n",
       "      <td>55.30</td>\n",
       "      <td>101.51</td>\n",
       "      <td>1.90</td>\n",
       "      <td>14.63</td>\n",
       "      <td>22.50</td>\n",
       "    </tr>\n",
       "    <tr>\n",
       "      <th>3</th>\n",
       "      <td>2019-02-23 00:15:00</td>\n",
       "      <td>67.84</td>\n",
       "      <td>0.0</td>\n",
       "      <td>55.79</td>\n",
       "      <td>0.0</td>\n",
       "      <td>-1.42</td>\n",
       "      <td>1.0</td>\n",
       "      <td>26.61</td>\n",
       "      <td>1.0</td>\n",
       "      <td>19.54</td>\n",
       "      <td>54.20</td>\n",
       "      <td>101.51</td>\n",
       "      <td>2.28</td>\n",
       "      <td>16.08</td>\n",
       "      <td>123.75</td>\n",
       "    </tr>\n",
       "    <tr>\n",
       "      <th>4</th>\n",
       "      <td>2019-02-23 00:20:00</td>\n",
       "      <td>67.81</td>\n",
       "      <td>0.0</td>\n",
       "      <td>55.82</td>\n",
       "      <td>0.0</td>\n",
       "      <td>-1.38</td>\n",
       "      <td>1.0</td>\n",
       "      <td>26.62</td>\n",
       "      <td>1.0</td>\n",
       "      <td>19.61</td>\n",
       "      <td>53.09</td>\n",
       "      <td>101.51</td>\n",
       "      <td>2.66</td>\n",
       "      <td>17.52</td>\n",
       "      <td>225.00</td>\n",
       "    </tr>\n",
       "  </tbody>\n",
       "</table>\n",
       "</div>"
      ],
      "text/plain": [
       "             timestamp  Soil humidity 1  Irrigation field 1  Soil humidity 2  \\\n",
       "0  2019-02-23 00:00:00            67.92                 0.0            55.72   \n",
       "1  2019-02-23 00:05:00            67.89                 0.0            55.74   \n",
       "2  2019-02-23 00:10:00            67.86                 0.0            55.77   \n",
       "3  2019-02-23 00:15:00            67.84                 0.0            55.79   \n",
       "4  2019-02-23 00:20:00            67.81                 0.0            55.82   \n",
       "\n",
       "   Irrigation field 2  Soil humidity 3  Irrigation field 3  Soil humidity 4  \\\n",
       "0                 0.0            -1.56                 1.0            26.57   \n",
       "1                 0.0            -1.51                 1.0            26.58   \n",
       "2                 0.0            -1.47                 1.0            26.59   \n",
       "3                 0.0            -1.42                 1.0            26.61   \n",
       "4                 0.0            -1.38                 1.0            26.62   \n",
       "\n",
       "   Irrigation field 4  Air temperature (C)  Air humidity (%)  Pressure (KPa)  \\\n",
       "0                 1.0                19.52             55.04          101.50   \n",
       "1                 1.0                19.49             55.17          101.50   \n",
       "2                 1.0                19.47             55.30          101.51   \n",
       "3                 1.0                19.54             54.20          101.51   \n",
       "4                 1.0                19.61             53.09          101.51   \n",
       "\n",
       "   Wind speed (Km/h)  Wind gust (Km/h)  Wind direction (Deg)  \n",
       "0               2.13              6.30                225.00  \n",
       "1               2.01             10.46                123.75  \n",
       "2               1.90             14.63                 22.50  \n",
       "3               2.28             16.08                123.75  \n",
       "4               2.66             17.52                225.00  "
      ]
     },
     "execution_count": 10,
     "metadata": {},
     "output_type": "execute_result"
    }
   ],
   "source": [
    "train.head()"
   ]
  },
  {
   "cell_type": "code",
   "execution_count": 12,
   "metadata": {},
   "outputs": [
    {
     "data": {
      "text/plain": [
       "timestamp               28049\n",
       "Soil humidity 1          8917\n",
       "Irrigation field 1      10066\n",
       "Soil humidity 2         26304\n",
       "Irrigation field 2      28029\n",
       "Soil humidity 3         16086\n",
       "Irrigation field 3      17236\n",
       "Soil humidity 4         26306\n",
       "Irrigation field 4      28029\n",
       "Air temperature (C)     23995\n",
       "Air humidity (%)        23995\n",
       "Pressure (KPa)          23995\n",
       "Wind speed (Km/h)       23995\n",
       "Wind gust (Km/h)        23995\n",
       "Wind direction (Deg)    23995\n",
       "dtype: int64"
      ]
     },
     "execution_count": 12,
     "metadata": {},
     "output_type": "execute_result"
    }
   ],
   "source": [
    "train.count()"
   ]
  },
  {
   "cell_type": "code",
   "execution_count": 18,
   "metadata": {},
   "outputs": [
    {
     "data": {
      "text/plain": [
       "Soil humidity 1          63.025653\n",
       "Irrigation field 1        0.177727\n",
       "Soil humidity 2          18.767424\n",
       "Irrigation field 2        0.095615\n",
       "Soil humidity 3          25.046062\n",
       "Irrigation field 3        0.245243\n",
       "Soil humidity 4          17.512501\n",
       "Irrigation field 4        0.211531\n",
       "Air temperature (C)      24.263780\n",
       "Air humidity (%)         58.521052\n",
       "Pressure (KPa)          101.131418\n",
       "Wind speed (Km/h)         9.896898\n",
       "Wind gust (Km/h)         41.744905\n",
       "Wind direction (Deg)     93.983796\n",
       "dtype: float64"
      ]
     },
     "execution_count": 18,
     "metadata": {},
     "output_type": "execute_result"
    }
   ],
   "source": [
    "train.mean()"
   ]
  },
  {
   "cell_type": "code",
   "execution_count": null,
   "metadata": {},
   "outputs": [],
   "source": []
  }
 ],
 "metadata": {
  "kernelspec": {
   "display_name": "Python 3",
   "language": "python",
   "name": "python3"
  },
  "language_info": {
   "codemirror_mode": {
    "name": "ipython",
    "version": 3
   },
   "file_extension": ".py",
   "mimetype": "text/x-python",
   "name": "python",
   "nbconvert_exporter": "python",
   "pygments_lexer": "ipython3",
   "version": "3.7.3"
  }
 },
 "nbformat": 4,
 "nbformat_minor": 2
}
